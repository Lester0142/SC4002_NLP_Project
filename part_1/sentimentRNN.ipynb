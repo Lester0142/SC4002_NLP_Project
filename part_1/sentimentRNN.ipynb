{
 "cells": [
  {
   "cell_type": "code",
   "execution_count": 5,
   "metadata": {},
   "outputs": [],
   "source": [
    "import torch\n",
    "import torch.nn as nn\n",
    "\n",
    "class SentimentRNN(nn.Module):\n",
    "    def __init__(self, input_size, hidden_size, output_size, num_layers, dropout=0.2, activationfn='tanh',):\n",
    "        super(SentimentRNN, self).__init__()\n",
    "        \n",
    "        # RNN layer\n",
    "        self.rnn = nn.RNN(\n",
    "            input_size, \n",
    "            hidden_size, \n",
    "            num_layers, \n",
    "            batch_first=True, \n",
    "            dropout=dropout, \n",
    "            nonlinearity=activationfn, \n",
    "            bias=True\n",
    "            )\n",
    "        \n",
    "        # Fully connected layer\n",
    "        self.fc = nn.Linear(hidden_size, output_size)\n",
    "        \n",
    "        # Sigmoid activation for output\n",
    "        self.sigmoid = nn.Sigmoid()\n",
    "\n",
    "    def forward(self, x):\n",
    "        # Pass input through RNN\n",
    "        out, hidden = self.rnn(x)\n",
    "        \n",
    "        out = torch.mean(out, dim=1) # mean over the sequence length\n",
    "        \n",
    "        # Pass through the fully connected layer and activation\n",
    "        out = self.fc(out)\n",
    "        out = self.sigmoid(out)\n",
    "        \n",
    "        return out\n"
   ]
  },
  {
   "cell_type": "code",
   "execution_count": 6,
   "metadata": {},
   "outputs": [
    {
     "name": "stdout",
     "output_type": "stream",
     "text": [
      "SentimentRNN(\n",
      "  (rnn): RNN(100, 32, batch_first=True, dropout=0.5)\n",
      "  (fc): Linear(in_features=32, out_features=1, bias=True)\n",
      "  (sigmoid): Sigmoid()\n",
      ")\n"
     ]
    },
    {
     "name": "stderr",
     "output_type": "stream",
     "text": [
      "c:\\Users\\All Saints\\Desktop\\Uni mods\\SC4002\\SC4002_NLP_Project\\.venv\\lib\\site-packages\\torch\\nn\\modules\\rnn.py:123: UserWarning: dropout option adds dropout after all but last recurrent layer, so non-zero dropout expects num_layers greater than 1, but got dropout=0.5 and num_layers=1\n",
      "  warnings.warn(\n"
     ]
    }
   ],
   "source": [
    "# Define model parameters\n",
    "input_size = 100         # Dimension of Word2Vec embeddings\n",
    "hidden_size = 32        # Number of hidden units\n",
    "output_size = 1          # Output size (1 for binary classification)\n",
    "num_layers = 1           # Number of stacked RNN layers\n",
    "dropout = 0.5            # Dropout rate for regularization\n",
    "\n",
    "# Initialize the model\n",
    "model = SentimentRNN(input_size, hidden_size, output_size, num_layers, dropout)\n",
    "\n",
    "# Print the model architecture to verify\n",
    "print(model)\n"
   ]
  },
  {
   "cell_type": "code",
   "execution_count": 49,
   "metadata": {},
   "outputs": [],
   "source": [
    "import torch\n",
    "from torch.utils.data import Dataset, DataLoader\n",
    "from torch.nn.utils.rnn import pad_sequence\n",
    "import numpy as np\n",
    "\n",
    "class SentimentDataset(Dataset):\n",
    "    def __init__(self, dataset, word2vec_model, max_length=100):\n",
    "        self.dataset = dataset\n",
    "        self.word2vec = word2vec_model\n",
    "        self.max_length = max_length  # Maximum sequence length for padding\n",
    "\n",
    "    def __len__(self):\n",
    "        return len(self.dataset)\n",
    "\n",
    "    def __getitem__(self, idx):\n",
    "        # Get text and label\n",
    "        text = self.dataset[idx]['text']\n",
    "        label = self.dataset[idx]['label']\n",
    "        \n",
    "        # Convert text to embeddings\n",
    "        tokens = text # Assuming text is tokenized already\n",
    "        embeddings = [self.word2vec.wv[word] for word in tokens if word in self.word2vec.wv]\n",
    "        \n",
    "        # Truncate sequences - will pad later\n",
    "        if len(embeddings) > self.max_length:\n",
    "            embeddings = embeddings[:self.max_length]\n",
    "        \n",
    "        embeddings = np.array(embeddings)\n",
    "        \n",
    "        return torch.tensor(embeddings, dtype=torch.float32), torch.tensor(label, dtype=torch.float32)\n",
    "\n",
    "def collate_fn(batch):\n",
    "    # Separate embeddings and labels\n",
    "    embeddings = [item[0] for item in batch]\n",
    "    labels = [item[1] for item in batch]\n",
    "    \n",
    "    # Stack them into tensors\n",
    "    embeddings = pad_sequence(embeddings, batch_first=True)\n",
    "    labels = torch.stack(labels)\n",
    "    \n",
    "    return embeddings, labels\n"
   ]
  },
  {
   "cell_type": "code",
   "execution_count": 50,
   "metadata": {},
   "outputs": [],
   "source": [
    "from gensim.models import Word2Vec\n",
    "from datasets import load_from_disk\n",
    "\n",
    "# This is the training dataset\n",
    "path_to_train_set = r\"C:\\Users\\All Saints\\Desktop\\Uni mods\\SC4002\\SC4002_NLP_Project\\tokenised_datasets\\tokenised_train_dataset\"\n",
    "train_dataset = load_from_disk(path_to_train_set)\n",
    "\n",
    "# This is the word2vec model\n",
    "word2vec_model = Word2Vec.load('word2vec.model')\n",
    "\n",
    "# Assuming 'train_dataset' is your dataset and 'word2vec_model' is your Word2Vec model\n",
    "train_data = SentimentDataset(train_dataset, word2vec_model)\n",
    "train_loader = DataLoader(train_data, batch_size=32, shuffle=True, collate_fn=collate_fn)\n"
   ]
  },
  {
   "cell_type": "code",
   "execution_count": 56,
   "metadata": {},
   "outputs": [
    {
     "name": "stdout",
     "output_type": "stream",
     "text": [
      "torch.Size([32, 35, 100]) torch.Size([32])\n",
      "torch.Size([32, 41, 100]) torch.Size([32])\n",
      "torch.Size([32, 47, 100]) torch.Size([32])\n",
      "torch.Size([32, 34, 100]) torch.Size([32])\n"
     ]
    }
   ],
   "source": [
    "c=0\n",
    "for embeddings, labels in train_loader:\n",
    "    print(embeddings.shape, labels.shape)\n",
    "    c+=1\n",
    "    if c==4:\n",
    "        break\n"
   ]
  },
  {
   "cell_type": "code",
   "execution_count": 53,
   "metadata": {},
   "outputs": [],
   "source": [
    "import torch.optim as optim\n",
    "\n",
    "# Binary Cross-Entropy Loss with Logits\n",
    "criterion = nn.BCEWithLogitsLoss()\n",
    "\n",
    "# Define the optimizer with the model's parameters and a learning rate\n",
    "learning_rate = 0.0001\n",
    "optimizer = optim.Adam(model.parameters(), lr=learning_rate)\n"
   ]
  },
  {
   "cell_type": "code",
   "execution_count": 57,
   "metadata": {},
   "outputs": [
    {
     "name": "stdout",
     "output_type": "stream",
     "text": [
      "tensor([1., 1., 0., 0., 0., 1., 1., 1., 1., 0., 1., 1., 0., 0., 0., 0., 0., 1.,\n",
      "        1., 0., 1., 0., 1., 1., 0., 0., 1., 1., 1., 1., 0., 1.])\n",
      "tensor([2.0245e-05, 2.1510e-05, 2.0864e-05, 2.1818e-05, 1.8418e-05, 1.8555e-05,\n",
      "        1.8987e-05, 1.8906e-05, 2.0179e-05, 1.7594e-05, 1.9125e-05, 1.8726e-05,\n",
      "        1.8924e-05, 1.7987e-05, 1.9980e-05, 1.8095e-05, 1.9314e-05, 1.8888e-05,\n",
      "        1.9956e-05, 2.1113e-05, 1.7419e-05, 1.8268e-05, 2.6479e-05, 1.7922e-05,\n",
      "        1.9538e-05, 1.7343e-05, 1.7827e-05, 2.3053e-05, 1.8282e-05, 1.9066e-05,\n",
      "        1.8350e-05, 1.8189e-05], grad_fn=<SqueezeBackward0>)\n"
     ]
    },
    {
     "ename": "RuntimeError",
     "evalue": "No active exception to reraise",
     "output_type": "error",
     "traceback": [
      "\u001b[1;31m---------------------------------------------------------------------------\u001b[0m",
      "\u001b[1;31mRuntimeError\u001b[0m                              Traceback (most recent call last)",
      "Cell \u001b[1;32mIn[57], line 35\u001b[0m\n\u001b[0;32m     32\u001b[0m loss\u001b[38;5;241m.\u001b[39mbackward()\n\u001b[0;32m     33\u001b[0m optimizer\u001b[38;5;241m.\u001b[39mstep()\n\u001b[1;32m---> 35\u001b[0m \u001b[38;5;28;01mraise\u001b[39;00m\n\u001b[0;32m     37\u001b[0m \u001b[38;5;66;03m# Accumulate the loss and accuracy\u001b[39;00m\n\u001b[0;32m     38\u001b[0m epoch_loss \u001b[38;5;241m+\u001b[39m\u001b[38;5;241m=\u001b[39m loss\u001b[38;5;241m.\u001b[39mitem() \u001b[38;5;241m*\u001b[39m labels\u001b[38;5;241m.\u001b[39msize(\u001b[38;5;241m0\u001b[39m)  \u001b[38;5;66;03m# Multiply by batch size for total loss\u001b[39;00m\n",
      "\u001b[1;31mRuntimeError\u001b[0m: No active exception to reraise"
     ]
    }
   ],
   "source": [
    "import matplotlib.pyplot as plt\n",
    "\n",
    "# Set the model to training mode\n",
    "model.train()\n",
    "\n",
    "# Training parameters\n",
    "num_epochs = 20\n",
    "train_losses = []\n",
    "train_accuracies = []\n",
    "\n",
    "for epoch in range(num_epochs):\n",
    "    epoch_loss = 0.0\n",
    "    correct_predictions = 0\n",
    "    total_samples = 0\n",
    "    \n",
    "    for embeddings, labels in train_loader:\n",
    "        # Move data to the same device as model (GPU if available)\n",
    "        # embeddings, labels = embeddings.to('cuda'), labels.to('cuda')\n",
    "        \n",
    "        # Zero the gradients\n",
    "        optimizer.zero_grad()\n",
    "        \n",
    "        # Forward pass\n",
    "        outputs = model(embeddings).squeeze()  # Output shape is (batch_size,)\n",
    "        print(labels)\n",
    "        print(outputs)\n",
    "        \n",
    "        # Compute the loss\n",
    "        loss = criterion(outputs, labels)\n",
    "        \n",
    "        # Backward pass and optimization\n",
    "        loss.backward()\n",
    "        optimizer.step()\n",
    "        \n",
    "        \n",
    "        # Accumulate the loss and accuracy\n",
    "        epoch_loss += loss.item() * labels.size(0)  # Multiply by batch size for total loss\n",
    "        predictions = (outputs >= 0.5).float()  # Threshold at 0.5\n",
    "        correct_predictions += (predictions == labels).sum().item()\n",
    "        total_samples += labels.size(0)\n",
    "\n",
    "    # Calculate average loss and accuracy for the epoch\n",
    "    avg_loss = epoch_loss / total_samples\n",
    "    accuracy = correct_predictions / total_samples\n",
    "    \n",
    "    # Store metrics for plotting\n",
    "    train_losses.append(avg_loss)\n",
    "    train_accuracies.append(accuracy)\n",
    "    \n",
    "    print(f\"Epoch {epoch + 1}/{num_epochs}, Loss: {avg_loss:.4f}, Accuracy: {accuracy:.4f}\")\n",
    "\n",
    "# Plot the training loss and accuracy over epochs\n",
    "plt.figure(figsize=(12, 5))\n",
    "\n",
    "# Plot Loss\n",
    "plt.subplot(1, 2, 1)\n",
    "plt.plot(train_losses, label='Training Loss')\n",
    "plt.xlabel(\"Epochs\")\n",
    "plt.ylabel(\"Loss\")\n",
    "plt.title(\"Training Loss Over Epochs\")\n",
    "plt.legend()\n",
    "\n",
    "# Plot Accuracy\n",
    "plt.subplot(1, 2, 2)\n",
    "plt.plot(train_accuracies, label='Training Accuracy')\n",
    "plt.xlabel(\"Epochs\")\n",
    "plt.ylabel(\"Accuracy\")\n",
    "plt.title(\"Training Accuracy Over Epochs\")\n",
    "plt.legend()\n",
    "\n",
    "plt.show()\n"
   ]
  },
  {
   "cell_type": "code",
   "execution_count": null,
   "metadata": {},
   "outputs": [],
   "source": []
  }
 ],
 "metadata": {
  "kernelspec": {
   "display_name": ".venv",
   "language": "python",
   "name": "python3"
  },
  "language_info": {
   "codemirror_mode": {
    "name": "ipython",
    "version": 3
   },
   "file_extension": ".py",
   "mimetype": "text/x-python",
   "name": "python",
   "nbconvert_exporter": "python",
   "pygments_lexer": "ipython3",
   "version": "3.9.1"
  }
 },
 "nbformat": 4,
 "nbformat_minor": 2
}
