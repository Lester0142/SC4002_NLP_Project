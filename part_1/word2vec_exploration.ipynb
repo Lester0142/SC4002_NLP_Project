{
 "cells": [
  {
   "cell_type": "code",
   "execution_count": 2,
   "metadata": {},
   "outputs": [],
   "source": [
    "from gensim.models import Word2Vec\n",
    "\n",
    "model = Word2Vec.load(\"word2vec.model\")\n"
   ]
  },
  {
   "cell_type": "code",
   "execution_count": 3,
   "metadata": {},
   "outputs": [
    {
     "data": {
      "text/plain": [
       "[('director', 0.9998214840888977),\n",
       " ('some', 0.9998213648796082),\n",
       " ('her', 0.9998212456703186),\n",
       " ('piece', 0.9998199343681335),\n",
       " ('new', 0.9998103976249695),\n",
       " ('into', 0.9997954368591309),\n",
       " ('both', 0.999794065952301),\n",
       " ('between', 0.9997872114181519),\n",
       " ('actor', 0.999786913394928),\n",
       " ('cinematic', 0.9997813105583191)]"
      ]
     },
     "execution_count": 3,
     "metadata": {},
     "output_type": "execute_result"
    }
   ],
   "source": [
    "model.wv.most_similar(\"two\")"
   ]
  },
  {
   "cell_type": "code",
   "execution_count": null,
   "metadata": {},
   "outputs": [],
   "source": []
  },
  {
   "cell_type": "code",
   "execution_count": 42,
   "metadata": {},
   "outputs": [
    {
     "data": {
      "text/plain": [
       "[('thats', 0.9997595548629761),\n",
       " ('hollywood', 0.9996917843818665),\n",
       " ('man', 0.9996882677078247),\n",
       " ('family', 0.9996775984764099),\n",
       " ('director', 0.9996764063835144),\n",
       " ('down', 0.9996758103370667),\n",
       " ('while', 0.999674379825592),\n",
       " ('picture', 0.9996728301048279),\n",
       " ('tale', 0.9996688961982727),\n",
       " ('filmmaker', 0.9996607899665833)]"
      ]
     },
     "execution_count": 42,
     "metadata": {},
     "output_type": "execute_result"
    }
   ],
   "source": [
    "model.wv.most_similar(\"ha\")"
   ]
  },
  {
   "cell_type": "code",
   "execution_count": 3,
   "metadata": {},
   "outputs": [],
   "source": [
    "from datasets import load_dataset, load_from_disk\n",
    "\n",
    "raw_dataset = load_dataset(\"rotten_tomatoes\")\n",
    "raw_dataset = raw_dataset[\"train\"]\n",
    "\n",
    "tokenised_dataset = load_from_disk(r\"C:\\Users\\All Saints\\Desktop\\Uni mods\\SC4002\\SC4002_NLP_Project\\tokenised_datasets\\tokenised_train_dataset\")"
   ]
  },
  {
   "cell_type": "code",
   "execution_count": 4,
   "metadata": {},
   "outputs": [
    {
     "name": "stdout",
     "output_type": "stream",
     "text": [
      "notorious c . h . o . has oodles of vulgar highlights .\n",
      "['notorious', 'c', 'h', 'o', 'ha', 'oodles', 'of', 'vulgar', 'highlight']\n"
     ]
    }
   ],
   "source": [
    "idx = 420\n",
    "\n",
    "print(raw_dataset[idx]['text'])\n",
    "print(tokenised_dataset[idx]['text'])"
   ]
  }
 ],
 "metadata": {
  "kernelspec": {
   "display_name": ".venv",
   "language": "python",
   "name": "python3"
  },
  "language_info": {
   "codemirror_mode": {
    "name": "ipython",
    "version": 3
   },
   "file_extension": ".py",
   "mimetype": "text/x-python",
   "name": "python",
   "nbconvert_exporter": "python",
   "pygments_lexer": "ipython3",
   "version": "3.9.1"
  }
 },
 "nbformat": 4,
 "nbformat_minor": 2
}
